{
 "cells": [
  {
   "cell_type": "markdown",
   "id": "8afb61d7-9a93-41d7-bc12-ee2ed3357a1e",
   "metadata": {},
   "source": [
    "## **1. 파이썬 머신러닝 완벽 가이드**\n",
    "\n",
    "---\n",
    "\n",
    "### 01. 머신러닝의 개념\n",
    "\n",
    "#### **머신러닝**\n",
    ">데이터를 기반하여 패턴을 학습하고 결과를 예측하는 알고리즘 기법\n",
    "\n",
    "<br>\n",
    "<br>\n",
    "\n",
    "**`머신러닝 특징`**\n",
    "- 프로그램 로직에 다양한 환경 변수 or 규칙을 추가하는 것은 오히려 소스 코드가 복잡해져, 예측의 정확성을 떨어뜨리기도 한다.\n",
    "  \n",
    "<font color=blue>=> 머신러닝은 이러한 문제를 데이터 기반으로 숨겨진 패턴을 인지하여 해결</font>\n",
    "\n",
    "<font color=red>(통계적 신뢰도 향상, 예측 오류 최소화. 이를 위한 다양한 수학적 기법을 적용)</font>\n",
    "<br>\n",
    "\n",
    "- 최근 들어 데이터 분석 영역은 머신러닝 기반의 예측 분석으로 재편되고 있다.\n",
    "- 머신러닝은 크게 **지도학습**(분류, 회귀, 추천 시스템, 시각 및 음성 감지 인지) / **비지도학습**(클러스터링, 차원축소, 강화학습)으로 나눈다.\n",
    "- 머신러닝의 가장 큰 단점은 **데이터에 매우 의존적**이다.\n",
    "\n",
    "<font color=blue>=> 좋은 품질의 데이터가 '최적의 결과'를 도출한다.</font>\n",
    "\n",
    "<font color=red>(최적의 결과 = 최적의 데이터 + 최적의 머신러닝 알고리즘 + 모델 파라미터 구축 능력)</font>\n",
    "\n",
    "<br>\n",
    "<br>\n",
    "\n",
    "**`머신러닝 사용 프로그램`**\n",
    "- 대표적: Python, R(통계 전용)\n",
    "\n",
    "<font color=blue>=> 이외 개발 프로그램에서 머신러닝을 사용하지 않는 이유는 '개발 생산성 저하', '지원 패키지 부족', '좁은 생태계'</font>\n",
    "\n",
    "- R 이외 통계 전용 프로그램 : SPSS, SAS, MATLAB 등\n",
    "\n",
    "<font color=blue>=> 고비용으로 활용 가치가 떨어짐</font>\n",
    "\n",
    "<br>\n",
    "<br>\n",
    "\n",
    "---\n",
    "\n",
    "**`Python / R / SAS 비교`**\n",
    "\n",
    "#### Python\n",
    ">**특징** | 생산성 및 코드의 가독성을 강조 / Engineering 환경에서 선호\n",
    "\n",
    ">**장점** | 알고리즘을 구현하기 용이하고 범용적인 사용성을 가짐 / 기존 모듈 뿐만 아니라 사용자가 정의한 알고리즘을 구현하는 것이 가능 / 딥러닝 라이브러리가 구현되어 있어 이를 이용한 알고리즘 개발에 용이 / 데이터 조작, 분석, 모델링 등이 용이\n",
    "\n",
    ">**단점** | 특정 통계 부분에 있어서는 R, SAS 보다는 효율성이 떨어짐 / R에 비해 통계패키지가 부족한 편 / 일부 패키지는 유료\n",
    "\n",
    "<br>\n",
    "\n",
    "#### R\n",
    ">**특징** | 통계의 대표적인 툴 / 메모리(RAM)기반의 분석 \n",
    "\n",
    ">**장점** | 다양한 통계 분석에 용이 / 사용자가 정의한 함수를 이용한 분석도 가능 / 메모리 기반의 연산으로 빠른 속도 / 무료 소프트웨어 / Rstudio라는 훌륭한 IDE 보유 / 좋은 그래픽 / 오픈소스로 무료 사용 가능\n",
    "\n",
    ">**단점** | 통계 및 데이터분석에 집중되어 있는 언어로 다른 분야에서 사용이 제한적 / 대용량 데이터 처리에 대한 한계점이 있음 / 빅데이터에 대한 처리속도가 다소 느림 / Python보다 복잡함\n",
    "\n",
    "<br>\n",
    "\n",
    "#### SAS\n",
    ">**특징** | 의학 및 약학분야에서 선호하는 소프트웨어 / 전세계적으로 광범위하게 활용됨\n",
    "\n",
    ">**장점** | 프로시저를 이용한 다양한 통계분석 가능 / 자료관리나 처리에 있어 효율적이며 코드가 간단 / 데이터 분석 결과가 다른 분석 tool보다 많은 양의 통계 정보를 제공 \n",
    "\n",
    ">**단점** | 유료 프로그램이기에 비용적 부담 / 프로그램 용량이 크기 때문에 컴퓨터 사양 요구 / 분석 함수를 수정할 수 없기에 자유도가 떨어짐 \n",
    "\n",
    "<font color=blue>=> 사용할 분석 tool를 선택할 때 **사용 목적, 사용자의 선호도, 필요한 기능, 데이터 크기** 등을 고려한 선택이 필요</font>\n",
    "\n",
    "---"
   ]
  },
  {
   "cell_type": "markdown",
   "id": "880265f2",
   "metadata": {},
   "source": [
    "## 02. 파이썬 머신러닝 생태계를 구성하는 주요 패키지\n",
    "- 머신러닝 패키지\n",
    "사이킷런(Scikit-Learn)\n",
    "\n",
    "- 딥러닝 패키지\n",
    "텐서플로(TensorFlow), 케라스(Keras), 파이토치(Pytorch)\n",
    "\n",
    "- 행렬/선형대수 패키지\n",
    "넘파이(NumPy)\n",
    "\n",
    "- 통계 패키지\n",
    "사이파이(SciPy)\n",
    "\n",
    "- 데이터 핸들링\n",
    "판다스(Pandas)\n",
    "\n",
    "- 데이터 시각화\n",
    "맷플롯립(Matplotlib), 시본(Searborn)\n",
    "\n",
    "---\n",
    "\n",
    "## 03. 넘파이(NumPy) \n",
    "\n",
    "\n",
    "#### **넘파이**\n",
    "> NumPy는 'Numerical Python'의 약어로, 파이썬에서 선형대수 기반의 프로그램을 쉽게 만들 수 있도록 지원하는 패키지.\n",
    "\n",
    "- 루프(반복문)를 사용하지 않고 대량 데이터의 배열 연산을 가능하게 하므로 빠른 배열 연산 속도가 보장되어 있다.\n",
    "- C/C++과 같은 저수준 언어 기반의 호환 API를 제공하며, C/C++ 기반의 타 프로그램과 데이터를 주고받거나 API를 호출해 쉽게 통합할 수 있는 기능을 제공\n",
    "- 배열 기반의 연산 외에 다양한 데이터 핸들링 기능을 제공\n",
    "- 선형대수, 난수발생기, 푸리에 변환 가능\n",
    "\n",
    "<font color=blue>=> 넘파이를 배워야 하는 이유는 **많은 머신러닝 알고리즘이 넘파이 기반**으로 작성되어 있고, 이들 알고리즘 **입력 데이터와 출력 데이터를 넘파이 배열 타입**으로 사용하기 때문이다.</font>\n",
    "\n",
    "---\n",
    "\n",
    "### 넘파이 ndarray 개요"
   ]
  },
  {
   "cell_type": "code",
   "execution_count": 1,
   "id": "63b33b63-82b0-416e-87a3-70548ddccfd2",
   "metadata": {},
   "outputs": [],
   "source": [
    "import numpy as np"
   ]
  },
  {
   "cell_type": "markdown",
   "id": "63c99204",
   "metadata": {},
   "source": [
    "- ``import numpy`` : 'numpy'패키지 실행\n",
    "- ``as np`` : 'import numpy'로도 충분하지만, `as np`를 추가해 약어로 모듈을 표현한다.\n",
    "\n",
    "---\n",
    "\n",
    "**``ndarray``는 Numpy의 N차원 배열 객체**를 말한다.\n",
    "\n",
    "- 넘파이의 기반 데이터 타입은 ``ndarray``객체 이다.\n",
    "- ``ndarray``를 통해 넘파이의 **다차원 배열을 쉽게 생성**한 후, **다양한 연산 수행**이 가능하다.\n",
    "\n",
    "<font color=blue>=> 정리하면 ``ndarray``객체는 **파이썬에서 사용하는 대규모 데이터의 집합을 n차원 배열**로 담을 수 있는 것이다.</font>\n",
    "\n"
   ]
  },
  {
   "cell_type": "code",
   "execution_count": 2,
   "id": "e06e9fd8",
   "metadata": {},
   "outputs": [
    {
     "name": "stdout",
     "output_type": "stream",
     "text": [
      "array1 type: <class 'numpy.ndarray'>\n",
      "array1 array 형태: (3,)\n",
      "array2 type: <class 'numpy.ndarray'>\n",
      "array2 array 형태: (2, 3)\n",
      "array3 type: <class 'numpy.ndarray'>\n",
      "array3 array 형태: (1, 3)\n"
     ]
    }
   ],
   "source": [
    "array1 = np.array([1,2,3])\n",
    "print('array1 type:',type(array1))\n",
    "print('array1 array 형태:', array1.shape)\n",
    "\n",
    "array2 = np.array([[1,2,3],\n",
    "                  [2,3,4]])\n",
    "print('array2 type:',type(array2))\n",
    "print('array2 array 형태:', array2.shape)\n",
    "\n",
    "array3 = np.array([[1,2,3]])\n",
    "print('array3 type:',type(array3))\n",
    "print('array3 array 형태:', array3.shape)"
   ]
  },
  {
   "cell_type": "markdown",
   "id": "76197a83",
   "metadata": {},
   "source": [
    "- ``np.array()`` : ()안에 배열(객체)을 인자로 입력하면 ``ndarray`` 객체를 반환\n",
    "\n",
    "<font color=blue>=> 파이썬 리스트 형식에서, ``ndarray`` 형식으로 변환</font>\n",
    "\n",
    "- ``type()`` : ()안의 type 출력\n",
    "- ``변수.shape`` : 변수로 지정한 ``np.array`` 형태를 튜플 형태로 출력\n",
    "- array1 = [1,2,3] : 1차원 배열 / 3개의 데이터 \n",
    "- array2 = [[1,2,3], [2,3,4]] : 2차원 배열 / 6개의 데이터(2개 로우, 3개 칼럼)\n",
    "- array3 = [[1,2,3]] : 2차원 배열 / 3개의 데이터 (1개 로우, 3개 칼럼)\n",
    "- 데이터 개수 = 행(로우)*열(칼럼)\n",
    "\n",
    "---\n",
    "\n",
    "- 데이터의 경우 차원이 다르면 오류가 발생할 수 있음"
   ]
  },
  {
   "cell_type": "code",
   "execution_count": 3,
   "id": "ff1e7841",
   "metadata": {},
   "outputs": [
    {
     "name": "stdout",
     "output_type": "stream",
     "text": [
      "array1: 1차원, array2: 2차원, array3: 2차원\n"
     ]
    }
   ],
   "source": [
    "print('array1: {0}차원, array2: {1}차원, array3: {2}차원'.format(array1.ndim, array2.ndim, array3.ndim))"
   ]
  },
  {
   "cell_type": "markdown",
   "id": "57a3915a",
   "metadata": {},
   "source": [
    "- ``'{}'.format()`` : 포맷함수, ()안에 내용을 {}에 입력\n",
    "- ``ndarray.ndim`` : 각 array의 차원을 출력\n",
    "\n",
    "---\n",
    "\n",
    "####  ndarray의 데이터 타입\n",
    "\n",
    "``ndarray`` 내에 들어갈 수 있는 값 \n",
    "\n",
    "- 숫자 값 / 문자열 값 / 불 값\n",
    "\n",
    "숫자형\n",
    "\n",
    "- int형(8bit, 16bit, 32bit)\n",
    "- flrat형(16bit, 32bit, 64bit, 128bit)\n",
    "- complex 타입\n",
    "\n",
    "<font color=blue>=> 이를 짚고 넘어가는 이유는, ``ndaraay``내의 데이터 타입은 **연산 특성상 같은 데이터 타입끼리만 가능**하기 때문이다.</font>"
   ]
  },
  {
   "cell_type": "code",
   "execution_count": 4,
   "id": "8fe96107",
   "metadata": {},
   "outputs": [
    {
     "name": "stdout",
     "output_type": "stream",
     "text": [
      "<class 'list'>\n",
      "<class 'numpy.ndarray'>\n",
      "[1 2 3] int32\n"
     ]
    }
   ],
   "source": [
    "list1 = [1, 2, 3]\n",
    "print(type(list1))\n",
    "\n",
    "array1 = np.array(list1)\n",
    "print(type(array1))\n",
    "print(array1, array1.dtype)"
   ]
  },
  {
   "cell_type": "markdown",
   "id": "f6a738a7",
   "metadata": {},
   "source": [
    "- list1: 리스트 -> 넘파이 형식(ndarray)으로 변환\n",
    "- ``ndarray.dtype`` : ``ndarray``내의 데이터 타입 출력"
   ]
  },
  {
   "cell_type": "code",
   "execution_count": 5,
   "id": "e624137f",
   "metadata": {},
   "outputs": [
    {
     "name": "stdout",
     "output_type": "stream",
     "text": [
      "['1' '2' 'test'] <U11\n",
      "[1. 2. 3.] float64\n"
     ]
    }
   ],
   "source": [
    "list2 = [1, 2, 'test']\n",
    "array2 = np.array(list2)\n",
    "print(array2, array2.dtype)\n",
    "\n",
    "list3 = [1, 2, 3.0]\n",
    "array3 = np.array(list3)\n",
    "print(array3, array3.dtype)"
   ]
  },
  {
   "cell_type": "markdown",
   "id": "d9c841eb",
   "metadata": {},
   "source": [
    "- ``ndarray`` 데이터값은 모두 같은 데이터 타입이어야 하므로 **서로 다른 데이터 타입일 때, 더 큰 데이터 타입으로 변환**된다.\n",
    "\n",
    "<font color=blue>=> 특성상 '문자형 > 숫자형' 불가능 / '숫자형 > 문자형'은 가능</font>\n",
    "\n",
    "- list2의 경우 'int형 + string형': int형 > srting형\n",
    "- list3의 경우 'int형 + float형': int형 > float형\n",
    "\n",
    "---\n",
    "데이터 값은 같은 데이터 타입이 되어야 하기 때문에 타입 변경은 ``astype()`` 메서드로 변경이 가능하다.\n",
    "\n",
    "- 대개 '대용량 메모리 > 저용량 메모리'로 메모리를 더 절약해야 하는 상황에 이용된다.\n",
    "- 파이썬 머신러닝 알고리즘의 경우, **대부분 메모리로 데이터를 전체 로딩한 다음 이를 기반으로 알고리즘을 적용하기에** 메모리 부족으로 오류가 발생할 수 있기 때문이다."
   ]
  },
  {
   "cell_type": "code",
   "execution_count": 6,
   "id": "1b7ab63b",
   "metadata": {},
   "outputs": [
    {
     "name": "stdout",
     "output_type": "stream",
     "text": [
      "[1. 2. 3.] float64\n",
      "[1 2 3] int32\n",
      "[1 2 3] int32\n"
     ]
    }
   ],
   "source": [
    "array_int = np.array([1, 2, 3])\n",
    "array_float = array_int.astype('float64')\n",
    "print(array_float, array_float.dtype)\n",
    "\n",
    "array_int1 = array_float.astype('int32')\n",
    "print(array_int1, array_int1.dtype)\n",
    "\n",
    "array_float1 = np.array([1.1, 2.1, 3.1])\n",
    "array_int2 = array_float1.astype('int32')\n",
    "print(array_int2, array_int2.dtype)"
   ]
  },
  {
   "cell_type": "markdown",
   "id": "f5a4f44c",
   "metadata": {},
   "source": [
    "- ``변수2 = 변수1.astype('변경 데이터')``: 기존 데이터를 새로운 데이터 타입으로 변경\n",
    "\n",
    "---\n",
    "\n",
    "### ndarray를 편리하게 생성하기 - arange, zeros, ones\n",
    "\n",
    "특정 크기와 차원을 가진 ndarray를 연속값 혹은 0 or 1로 초기화해 쉽게 생성해야 할 필요가 있는 경우가 발생\n",
    "\n",
    "이 경우 `arange()` / `zeros()` / `ones()`를 사용.\n",
    "\n",
    "아래와 같이 활용\n",
    "\n",
    "- 테스트용 데이터 생성할 때\n",
    "- 대규모의 데이터를 일괄 초기화할 때\n"
   ]
  },
  {
   "cell_type": "code",
   "execution_count": 7,
   "id": "a82e70f6",
   "metadata": {},
   "outputs": [
    {
     "name": "stdout",
     "output_type": "stream",
     "text": [
      "[0 1 2 3 4 5 6 7 8 9]\n",
      "int32 (10,)\n"
     ]
    }
   ],
   "source": [
    "sequence_array = np.arange(10)\n",
    "print(sequence_array)\n",
    "print(sequence_array.dtype, sequence_array.shape)"
   ]
  },
  {
   "cell_type": "markdown",
   "id": "d5eac875",
   "metadata": {},
   "source": [
    "- ``np.arange()`` : 괄호 안의 값을 연속하여 출력. array를 ``range()``로 표현한 것. 0부터 괄호 안 길이만큼 출력한다고 보면 된다.\n",
    "- 정수형 / 1차원 / 데이터개수 10개"
   ]
  },
  {
   "cell_type": "code",
   "execution_count": 8,
   "id": "1b1a45f5",
   "metadata": {},
   "outputs": [
    {
     "name": "stdout",
     "output_type": "stream",
     "text": [
      "[[0 0]\n",
      " [0 0]\n",
      " [0 0]]\n",
      "int32 (3, 2)\n",
      "[[1. 1.]\n",
      " [1. 1.]\n",
      " [1. 1.]]\n",
      "float64 (3, 2)\n"
     ]
    }
   ],
   "source": [
    "zero_array = np.zeros((3, 2), dtype='int32')\n",
    "print(zero_array)\n",
    "print(zero_array.dtype, zero_array.shape)\n",
    "\n",
    "one_array = np.ones((3,2))\n",
    "print(one_array)\n",
    "print(one_array.dtype, one_array.shape)"
   ]
  },
  {
   "cell_type": "markdown",
   "id": "0771d41a",
   "metadata": {},
   "source": [
    "- ``np.zeros()``: 괄호 안 인자로 튜플 형태 shape을 입력하면 shape내의 값을 모두 0으로 채운 후 해당 shape 출력\n",
    "- ``np.ones()``: 괄호 안 인자로 튜플 형태 shape을 입력하면 shape내의 값을 모두 1로 채운 후 해당 shape 출력\n",
    "- dtype을 int형으로 지정하지 않으면, 기본 값으로 float64 형의 데이터로 채워지게 된다.\n",
    "\n",
    "---\n",
    "\n",
    "### ndarray의 차원과 크기를 변경하는 reshape()\n",
    "\n",
    "``reshape()`` 메서드는 ``ndarray``를 특정 차원 및 크기(로우 및 칼럼)로 변환\n",
    "\n",
    "- 함수 인자로는 변환을 원하는 크기를 넣으면 된다.\n",
    "- 데이터의 크기가 같아야 한다. (ex. 10개의 데이터 > 12개의 데이터로 변환 불가)"
   ]
  },
  {
   "cell_type": "code",
   "execution_count": 9,
   "id": "c08f53d3",
   "metadata": {},
   "outputs": [
    {
     "name": "stdout",
     "output_type": "stream",
     "text": [
      "array1:\n",
      " [0 1 2 3 4 5 6 7 8 9]\n",
      "array2:\n",
      " [[0 1 2 3 4]\n",
      " [5 6 7 8 9]]\n",
      "array3:\n",
      " [[0 1]\n",
      " [2 3]\n",
      " [4 5]\n",
      " [6 7]\n",
      " [8 9]]\n"
     ]
    }
   ],
   "source": [
    "array1 = np.arange(10)\n",
    "print('array1:\\n',array1)\n",
    "\n",
    "array2 = array1.reshape(2, 5)\n",
    "print('array2:\\n',array2)\n",
    "\n",
    "array3 = array1.reshape(5, 2)\n",
    "print('array3:\\n',array3)"
   ]
  },
  {
   "cell_type": "markdown",
   "id": "1a199802",
   "metadata": {},
   "source": [
    "- 0~9 까지의 데이터가 담긴 1차원을 array2(2차원, 2X5), array3(2차원, 5X2)로 변환"
   ]
  },
  {
   "cell_type": "code",
   "execution_count": 10,
   "id": "e5b8751a-26c7-45af-a1ff-e9c6c7414340",
   "metadata": {},
   "outputs": [
    {
     "ename": "ValueError",
     "evalue": "cannot reshape array of size 10 into shape (4,3)",
     "output_type": "error",
     "traceback": [
      "\u001b[1;31m---------------------------------------------------------------------------\u001b[0m",
      "\u001b[1;31mValueError\u001b[0m                                Traceback (most recent call last)",
      "Cell \u001b[1;32mIn[10], line 1\u001b[0m\n\u001b[1;32m----> 1\u001b[0m \u001b[43marray1\u001b[49m\u001b[38;5;241;43m.\u001b[39;49m\u001b[43mreshape\u001b[49m\u001b[43m(\u001b[49m\u001b[38;5;241;43m4\u001b[39;49m\u001b[43m,\u001b[49m\u001b[43m \u001b[49m\u001b[38;5;241;43m3\u001b[39;49m\u001b[43m)\u001b[49m\n",
      "\u001b[1;31mValueError\u001b[0m: cannot reshape array of size 10 into shape (4,3)"
     ]
    }
   ],
   "source": [
    "array1.reshape(4, 3)"
   ]
  },
  {
   "cell_type": "markdown",
   "id": "b16a6f04",
   "metadata": {},
   "source": [
    "- 위 같은 경우 데이터 개수가 다르므로 형태 변환이 불가능하다."
   ]
  },
  {
   "cell_type": "code",
   "execution_count": null,
   "id": "b8d98f80-17c8-4f6a-bbe4-170686640652",
   "metadata": {},
   "outputs": [],
   "source": [
    "array1 = np.arange(10)\n",
    "print(array1)\n",
    "\n",
    "array2 = array1.reshape(-1,5)\n",
    "print('array2 shape:',array2.shape,'\\narray2: \\n',array2)\n",
    "\n",
    "array3 = array1.reshape(5,-1)\n",
    "print('array3 shape:',array3.shape,'\\narray3: \\n',array3)"
   ]
  },
  {
   "cell_type": "markdown",
   "id": "f52109f3",
   "metadata": {},
   "source": [
    "- 인자로 -1이 적용된 경우에는 **고정된 다른 인자에 맞는 인자로 변경하여 새롭게 생성해 변환하라는 의미**이다."
   ]
  },
  {
   "cell_type": "code",
   "execution_count": null,
   "id": "eb86372a-e578-46c7-9233-a7cb8b14a654",
   "metadata": {},
   "outputs": [],
   "source": [
    "array1 = np.arange(10)\n",
    "array4 = array1.reshape(-1, 4)"
   ]
  },
  {
   "cell_type": "markdown",
   "id": "a371bf86",
   "metadata": {},
   "source": [
    "- 위 같은 경우 로우 인자가 -1임에도 오류가 발생했다. -1이 인자로 주어진다고 하더라도 데이터 개수를 맞추어야 하므로 -1이 2.5가 되어야 하는데, 인자가 정수가 아닌 실수로 변환될 수 없기 때문이다."
   ]
  },
  {
   "cell_type": "code",
   "execution_count": 11,
   "id": "fc61c1de-0b07-4cb2-bfdc-bbede8b107a9",
   "metadata": {},
   "outputs": [
    {
     "name": "stdout",
     "output_type": "stream",
     "text": [
      "array3d:\n",
      " [[[0, 1], [2, 3]], [[4, 5], [6, 7]]]\n",
      "array5:\n",
      " [[0], [1], [2], [3], [4], [5], [6], [7]]\n",
      "array5 shape: (8, 1)\n",
      "array6:\n",
      " [[0], [1], [2], [3], [4], [5], [6], [7]]\n",
      "array6 shape: (8, 1)\n"
     ]
    }
   ],
   "source": [
    "array1 = np.arange(8)\n",
    "array3d = array1.reshape((2,2,2))\n",
    "print('array3d:\\n',array3d.tolist())\n",
    "\n",
    "# 3차원 ndarray를 2차원 ndarray로 변환\n",
    "array5 = array3d.reshape(-1,1)\n",
    "print('array5:\\n', array5.tolist())\n",
    "print('array5 shape:', array5.shape)\n",
    "\n",
    "# 1차원 ndarray를 2차원 ndarray로 변환\n",
    "array6 = array1.reshape(-1,1)\n",
    "print('array6:\\n', array6.tolist())\n",
    "print('array6 shape:', array6.shape)"
   ]
  },
  {
   "cell_type": "markdown",
   "id": "081cb2bb",
   "metadata": {},
   "source": [
    "- reshape(-1,1) 형태는 자주 이용됨( 3차원 > 2차원, 1차원 > 2차원 등)\n",
    "- ``변수.tolist()``: ndarray 형식에서 list 형식으로 바꿔 줌\n",
    "\n",
    "---\n",
    "\n",
    "### 넘파이의 ndarray의 데이터 세트 선택하기 - 인덱싱(Indexing)\n",
    "\n",
    "**인덱싱**이란? \n",
    ">배열에서의 요소 위치(인덱스)를 기준으로 배열 요소에 액세스하는 것\n",
    "\n",
    "1. 단일 데이터값 추출: 원하는 위치의 인덱스 값을 지정하면 해당 위치의 데이터가 반환됨\n",
    "2. 슬라이싱(Slicing): 연속된 인덱스상의 ndarray를 추출하는 방식\n",
    "3. 팬시 인덱싱(Fancy Indexing): 일정한 인덱싱 집합을 리스트 또는 ndarray 형태로 지정해 해당 위치에 있는 데이터의 ndraay를 반환\n",
    "4. 불린 인덱싱(Boolean Indexing): 특정 조건에 해당하는지 여부인 True/False 값 인덱싱 집합을 기반으로 True에 해당하는 인덱스 위치의 데이터의 ndarray를 반환 \n",
    "\n",
    "- 단일 데이터값 추출을 제외하고 **슬라이싱, 팬시 인덱싱, 불린 인덱싱**으로 추출된 데이터 셋은 모두 **ndarray 타입**이다.\n",
    "\n",
    "<br>\n",
    "\n",
    "#### 단일 값 추출"
   ]
  },
  {
   "cell_type": "code",
   "execution_count": 12,
   "id": "5d7fc6f2-3eaa-4882-8538-2071008216c5",
   "metadata": {},
   "outputs": [
    {
     "name": "stdout",
     "output_type": "stream",
     "text": [
      "array1: [1 2 3 4 5 6 7 8 9]\n",
      "value: 3\n",
      "<class 'numpy.int32'>\n"
     ]
    }
   ],
   "source": [
    "# 1부터 9까지의 1차원 ndarray 생성\n",
    "array1 = np.arange(start=1, stop=10)\n",
    "print('array1:', array1)\n",
    "\n",
    "# index 0부터 시작하므로 array1[2]는 3번째 index 위치의 데이터 값을 의미\n",
    "value = array1[2]\n",
    "print('value:', value)\n",
    "print(type(value))"
   ]
  },
  {
   "cell_type": "markdown",
   "id": "98b59099",
   "metadata": {},
   "source": [
    "- ``np.arange(start= a, stop= b)``: 기존의 ``arange()``메서드와는 다르게 괄호 안에 시작 숫자와, 끝나는 숫자를 지정할 수 있다.\n",
    "\n",
    "- 리스트에서 인덱싱 하듯이 인덱스 값을 []안에 입력하면 된다."
   ]
  },
  {
   "cell_type": "code",
   "execution_count": 13,
   "id": "c7ddbcae-ca34-4d62-b466-ebad24de5dd1",
   "metadata": {},
   "outputs": [
    {
     "name": "stdout",
     "output_type": "stream",
     "text": [
      "맨 뒤의 값: 9 , 맨 뒤에서 두 번째 값: 8\n"
     ]
    }
   ],
   "source": [
    "print('맨 뒤의 값:',array1[-1], ', 맨 뒤에서 두 번째 값:',array1[-2])"
   ]
  },
  {
   "cell_type": "markdown",
   "id": "87b6fb05",
   "metadata": {},
   "source": [
    "- 리스트와 마찬가지로 마이너스 기호 이용 가능"
   ]
  },
  {
   "cell_type": "code",
   "execution_count": 14,
   "id": "bc32db86-f6bf-49c3-8d1d-ff3acbe95df4",
   "metadata": {},
   "outputs": [
    {
     "name": "stdout",
     "output_type": "stream",
     "text": [
      "array1: [9 2 3 4 5 6 7 8 0]\n"
     ]
    }
   ],
   "source": [
    "array1[0] = 9 \n",
    "array1[8] = 0\n",
    "print('array1:', array1)"
   ]
  },
  {
   "cell_type": "markdown",
   "id": "1d442792",
   "metadata": {},
   "source": [
    "- ndarray 내의 데이터 값도 수정이 가능"
   ]
  },
  {
   "cell_type": "code",
   "execution_count": 15,
   "id": "2202974d-e825-4637-90c4-834754640ea9",
   "metadata": {},
   "outputs": [
    {
     "name": "stdout",
     "output_type": "stream",
     "text": [
      "[[1 2 3]\n",
      " [4 5 6]\n",
      " [7 8 9]]\n",
      "(row=0, col=0) index 가리키는 값: 1\n",
      "(row=0, col=1) index 가리키는 값: 2\n",
      "(row=1, col=0) index 가리키는 값: 4\n",
      "(row=2, col=2) index 가리키는 값: 9\n"
     ]
    }
   ],
   "source": [
    "array1d = np.arange(start=1, stop=10)\n",
    "array2d = array1d.reshape(3, 3)\n",
    "print(array2d)\n",
    "\n",
    "print('(row=0, col=0) index 가리키는 값:', array2d[0, 0])\n",
    "print('(row=0, col=1) index 가리키는 값:', array2d[0, 1])\n",
    "print('(row=1, col=0) index 가리키는 값:', array2d[1, 0])\n",
    "print('(row=2, col=2) index 가리키는 값:', array2d[2, 2])"
   ]
  },
  {
   "cell_type": "markdown",
   "id": "d804fd40",
   "metadata": {},
   "source": [
    "- 다차원 ndarray에서도 로우, 칼럼 값을 지정하여 해당 인덱스의 값을 출력할 수 있음\n",
    "- 지금까지 표현한 로우, 칼럼 표현은 numpy의 ndarray에서 사용하지 않는 표현이다. 정확한 표현으로는 **'axis 0'은 로우방향의 축 / 'axis 1'은 칼럼방향의 축**을 의미한다.\n",
    "\n",
    "---\n",
    "\n",
    "#### 슬라이싱\n"
   ]
  },
  {
   "cell_type": "code",
   "execution_count": 16,
   "id": "4828952a-97e0-4f89-ae7e-f9d5c81d2c85",
   "metadata": {},
   "outputs": [
    {
     "name": "stdout",
     "output_type": "stream",
     "text": [
      "[1 2 3]\n",
      "<class 'numpy.ndarray'>\n"
     ]
    }
   ],
   "source": [
    "array1 = np.arange(start=1, stop=10)\n",
    "array3 = array1[0:3]\n",
    "print(array3)\n",
    "print(type(array3))"
   ]
  },
  {
   "cell_type": "markdown",
   "id": "274f9b30",
   "metadata": {},
   "source": [
    "- [] 괄호 안에 ':' 기호를 넣어 연속한 데이터를 슬라이싱하여 추출한다.\n",
    "- 시작 인덱스부터, 종료 인덱스 -1의 위치에 있는 데이터의 ndarray 반환"
   ]
  },
  {
   "cell_type": "code",
   "execution_count": 17,
   "id": "475942ad",
   "metadata": {},
   "outputs": [
    {
     "name": "stdout",
     "output_type": "stream",
     "text": [
      "[1 2 3]\n",
      "[4 5 6 7 8 9]\n",
      "[1 2 3 4 5 6 7 8 9]\n"
     ]
    }
   ],
   "source": [
    "array1 = np.arange(start=1, stop=10)\n",
    "array4 = array1[:3]\n",
    "print(array4)\n",
    "\n",
    "array5 = array1[3:]\n",
    "print(array5)\n",
    "\n",
    "array6 = array1[:]\n",
    "print(array6)"
   ]
  },
  {
   "cell_type": "markdown",
   "id": "d0c25a59",
   "metadata": {},
   "source": [
    "- [:인덱스] : 처음부터 지정 인덱스(-1의 위치까지)까지 ndarray 반환\n",
    "- [인덱스:] : 지정 인덱스부터 종료까지 데이터의 ndarray 반환\n",
    "- [ : ] : 처음부터 종료까지 데이터의 ndarray 반환"
   ]
  },
  {
   "cell_type": "code",
   "execution_count": 18,
   "id": "695e4ed7",
   "metadata": {},
   "outputs": [
    {
     "name": "stdout",
     "output_type": "stream",
     "text": [
      "array1d:\n",
      " [1 2 3 4 5 6 7 8 9]\n",
      "array2d:\n",
      " [[1 2 3]\n",
      " [4 5 6]\n",
      " [7 8 9]]\n",
      "array2d[0:2, 0:2]\n",
      " [[1 2]\n",
      " [4 5]]\n",
      "array2d[1:3, 0:3]\n",
      " [[4 5 6]\n",
      " [7 8 9]]\n",
      "array2d[1:3, :]\n",
      " [[4 5 6]\n",
      " [7 8 9]]\n",
      "array2d[:, :]\n",
      " [[1 2 3]\n",
      " [4 5 6]\n",
      " [7 8 9]]\n",
      "array2d[:2, 1:]\n",
      " [[2 3]\n",
      " [5 6]]\n",
      "array2d[:2, 0]\n",
      " [1 4]\n"
     ]
    }
   ],
   "source": [
    "array1d = np.arange(start=1, stop=10)\n",
    "print('array1d:\\n', array1d)\n",
    "array2d = array1d.reshape(3, 3)\n",
    "print('array2d:\\n', array2d)\n",
    "\n",
    "print('array2d[0:2, 0:2]\\n', array2d[0:2, 0:2])\n",
    "print('array2d[1:3, 0:3]\\n', array2d[1:3, 0:3])\n",
    "print('array2d[1:3, :]\\n', array2d[1:3, :])\n",
    "print('array2d[:, :]\\n', array2d[:, :])\n",
    "print('array2d[:2, 1:]\\n', array2d[:2, 1:])\n",
    "\n",
    "#아래 경우 2차원에서 1차원으로 변환됨\n",
    "print('array2d[:2, 0]\\n', array2d[:2, 0]) "
   ]
  },
  {
   "cell_type": "markdown",
   "id": "14b28e12",
   "metadata": {},
   "source": [
    "- 2차원 ndarray에서의 슬라이싱도 1차원 슬라이싱과 유사\n",
    "- 콤마(,)로 로우(행) / 칼럼(열) 구분\n",
    "- 슬라이싱으로도 차원의 변형이 가능하다.\n",
    "\n",
    "---\n",
    "\n",
    "#### 팬시 인덱싱\n",
    "\n",
    "- 인덱스 집합을 지정하면 해당 위치의 인덱스에 해당하는 ndarray 반환하는 인덱싱 방식"
   ]
  },
  {
   "cell_type": "code",
   "execution_count": 19,
   "id": "37e042dc",
   "metadata": {},
   "outputs": [
    {
     "name": "stdout",
     "output_type": "stream",
     "text": [
      "[[1 2 3]\n",
      " [4 5 6]\n",
      " [7 8 9]]\n",
      "array2d[[0,1],2] => [3, 6]\n",
      "array2d[[0,1], 0:2] => [[1, 2], [4, 5]]\n",
      "array2d[[0,1]] => [[1, 2, 3], [4, 5, 6]]\n"
     ]
    }
   ],
   "source": [
    "array1d = np.arange(start=1, stop=10)\n",
    "array2d = array1d.reshape(3,3)\n",
    "\n",
    "print(array2d)\n",
    "\n",
    "array3 = array2d[[0,1],2]\n",
    "print('array2d[[0,1],2] =>', array3.tolist())\n",
    "\n",
    "array4 = array2d[[0,1], 0:2]\n",
    "print('array2d[[0,1], 0:2] =>', array4.tolist())\n",
    "\n",
    "array5 = array2d[[0,1]]\n",
    "print('array2d[[0,1]] =>', array5.tolist())"
   ]
  },
  {
   "cell_type": "markdown",
   "id": "7b4b6ee2",
   "metadata": {},
   "source": [
    "- array3의 경우, 로우 축 0,1행 / 칼럼 축 2열 => 해당하는 ndarray반환\n",
    "- array4의 경우, 로우 축 0,1행 / 칼럼 축 0~1열 => 해당하는 ndarray반환\n",
    "- array5의 경우, 로우 축 0,1행 / 칼럼 축 0~2열 => 해당하는 ndarray반환\n",
    "\n",
    "---\n",
    "\n",
    "\n",
    "#### 불린 인덱싱\n",
    "\n",
    "- [  ] 내의 조건문을 통해 True에 해당하는 인덱스 위치의 데이터의 ndarray를 반환"
   ]
  },
  {
   "cell_type": "code",
   "execution_count": 20,
   "id": "6d764ca3",
   "metadata": {},
   "outputs": [
    {
     "name": "stdout",
     "output_type": "stream",
     "text": [
      "array1d > 5 불린 인덱싱 결과 값: [6 7 8 9]\n"
     ]
    }
   ],
   "source": [
    "array1d = np.arange(start=1, stop=10)\n",
    "# [ ] 안에 array1d > 5 Boolean indexing 적용\n",
    "array3 = array1d[array1d > 5]\n",
    "print('array1d > 5 불린 인덱싱 결과 값:',array3)"
   ]
  },
  {
   "cell_type": "markdown",
   "id": "c55e1162",
   "metadata": {},
   "source": [
    "- [  ] 안 조건문에 따라 인덱싱한 결과 5보다 큰 True에 해당하는 인덱스 위치의 ndarray 반환"
   ]
  },
  {
   "cell_type": "code",
   "execution_count": 21,
   "id": "bab08486",
   "metadata": {},
   "outputs": [
    {
     "data": {
      "text/plain": [
       "array([False, False, False, False, False,  True,  True,  True,  True])"
      ]
     },
     "execution_count": 21,
     "metadata": {},
     "output_type": "execute_result"
    }
   ],
   "source": [
    "array1d > 5"
   ]
  },
  {
   "cell_type": "markdown",
   "id": "24e0c13b",
   "metadata": {},
   "source": [
    "- 조건문에 해당하는 False 및 True 값 출력"
   ]
  },
  {
   "cell_type": "code",
   "execution_count": 22,
   "id": "5bd4fa8e",
   "metadata": {},
   "outputs": [
    {
     "name": "stdout",
     "output_type": "stream",
     "text": [
      "불린 인덱스로 필터링 결과: [6 7 8 9]\n"
     ]
    }
   ],
   "source": [
    "array1d = np.arange(start=1, stop=10)\n",
    "\n",
    "boolean_indexes = np.array([False, False, False, False, False,  True,  True,  True,  True])\n",
    "array3 = array1d[boolean_indexes]\n",
    "print('불린 인덱스로 필터링 결과:', array3)"
   ]
  },
  {
   "cell_type": "markdown",
   "id": "0e2aa063",
   "metadata": {},
   "source": [
    "- 기존에 ``array1d > 5`` 조건문 대신 조건문의 결과 값을 넣어도 동일한 데이터 셋이 반환된다."
   ]
  },
  {
   "cell_type": "code",
   "execution_count": 23,
   "id": "1d1d554c",
   "metadata": {},
   "outputs": [
    {
     "name": "stdout",
     "output_type": "stream",
     "text": [
      "일반 인덱스로 필터링 결과: [6 7 8 9]\n"
     ]
    }
   ],
   "source": [
    "array1d = np.arange(start=1, stop=10)\n",
    "\n",
    "indexes = np.array([5, 6, 7, 8])\n",
    "array4 = array1d[indexes]\n",
    "print('일반 인덱스로 필터링 결과:', array4)"
   ]
  },
  {
   "cell_type": "markdown",
   "id": "09851191",
   "metadata": {},
   "source": [
    "- 1차원 배열 [1, 2, 3, 4, 5, 6, 7, 8, 9]에서 5~8번 위치에 해당하는 인덱스 ndarray 반환\n",
    "\n",
    "---\n",
    "\n",
    "### 행렬의 정렬 - sort( )와 argsort( )\n",
    "\n",
    "#### 행렬 정렬\n",
    "\n",
    "넘파이의 행렬 정렬 방식은 두 방식이 있다.\n",
    "\n",
    "- ``np.sort()`` : **넘파이에서** sort() 호출하는 방식 \n",
    "\n",
    "원본 행렬: **기존 행렬 형태를 유지** \n",
    "\n",
    "반환 행렬: 정렬된 행렬\n",
    "\n",
    "<br>\n",
    "\n",
    "- ``ndarray.sort()`` : **행렬 자체에서** sort() 호출하는 방식 \n",
    "\n",
    "원본 행렬: **기존 행렬 형태를 정렬**한 형태로 반환 \n",
    "\n",
    "반환 행렬: 동일(None)\n",
    "\n",
    "<br>\n",
    "\n",
    "\n",
    "sort는 기본적으로 **오름차순**으로 행렬 내 원소를 정렬"
   ]
  },
  {
   "cell_type": "code",
   "execution_count": 24,
   "id": "0734a4f8",
   "metadata": {},
   "outputs": [
    {
     "name": "stdout",
     "output_type": "stream",
     "text": [
      "원본 행렬: [3 1 9 5]\n",
      "np.sort( ) 호출 후 반환된 정렬 행렬: [1 3 5 9]\n",
      "np.sort( ) 호출 후 원본 정렬 행렬: [3 1 9 5]\n",
      "org_array.sort( ) 호출 후 반환된 행렬 None\n",
      "org_array.sort( ) 호출 후 원본 행렬 [1 3 5 9]\n"
     ]
    }
   ],
   "source": [
    "org_array = np.array([3, 1, 9, 5])\n",
    "print('원본 행렬:', org_array)\n",
    "\n",
    "#np.sort( )로 정렬\n",
    "sort_array1 = np.sort(org_array)\n",
    "print('np.sort( ) 호출 후 반환된 정렬 행렬:', sort_array1)\n",
    "print('np.sort( ) 호출 후 원본 정렬 행렬:', org_array)\n",
    "\n",
    "#ndarray.sort( )로 정렬\n",
    "sort_array2 = org_array.sort()\n",
    "print('org_array.sort( ) 호출 후 반환된 행렬', sort_array2)\n",
    "print('org_array.sort( ) 호출 후 원본 행렬', org_array)"
   ]
  },
  {
   "cell_type": "markdown",
   "id": "600bfac1",
   "metadata": {},
   "source": [
    "위 코드를 통해 정렬 방식을 확인해 보면\n",
    "\n",
    "- ``np.sort()`` 호출 후 원본 행렬은 유지되고, 반환된 행렬에 대해서 정렬\n",
    "- ``ndarray.sort()`` 호출 후 원본 행렬이 정렬되고, 반환된 행렬에 대해선 변화가 없으므로 None값 출력"
   ]
  },
  {
   "cell_type": "code",
   "execution_count": 25,
   "id": "3309d18c",
   "metadata": {},
   "outputs": [
    {
     "name": "stdout",
     "output_type": "stream",
     "text": [
      "내림차순으로 정렬: [9 5 3 1]\n"
     ]
    }
   ],
   "source": [
    "# 내림차순으로 정렬\n",
    "\n",
    "sort_array1_desc = np.sort(org_array)[::-1]\n",
    "print('내림차순으로 정렬:', sort_array1_desc)"
   ]
  },
  {
   "cell_type": "markdown",
   "id": "2b48232b",
   "metadata": {},
   "source": [
    "- ``np.sort()[::-1]`` : 내림차순으로 정렬"
   ]
  },
  {
   "cell_type": "code",
   "execution_count": 26,
   "id": "c7584795",
   "metadata": {},
   "outputs": [
    {
     "name": "stdout",
     "output_type": "stream",
     "text": [
      "기존 행렬:\n",
      " [[ 8 12]\n",
      " [ 7  1]]\n",
      "로우 방향으로 정렬:\n",
      " [[ 7  1]\n",
      " [ 8 12]]\n",
      "칼럼 방향으로 정렬:\n",
      " [[ 8 12]\n",
      " [ 1  7]]\n"
     ]
    }
   ],
   "source": [
    "# 행렬이 2차원 이상일 경우\n",
    "\n",
    "array2d = np.array([[8,12],\n",
    "                   [7, 1]])\n",
    "print('기존 행렬:\\n', array2d)\n",
    "\n",
    "sort_array2d_axis0 = np.sort(array2d, axis=0)\n",
    "print('로우 방향으로 정렬:\\n', sort_array2d_axis0)\n",
    "\n",
    "sort_array2d_axis1 = np.sort(array2d, axis=1)\n",
    "print('칼럼 방향으로 정렬:\\n', sort_array2d_axis1)"
   ]
  },
  {
   "cell_type": "markdown",
   "id": "637cb348",
   "metadata": {},
   "source": [
    "- 행렬이 2차원 이상일 경우 axis 축 값을 기준으로 정렬이 가능\n",
    "- ``axis = 0`` : 로우 방향(행 축,아래로 갈수록 오름차순)으로 정렬\n",
    "- ``axix = 1`` : 칼럼 방향(열 축,오른쪽으로 갈수록 오름차순)으로 정렬\n",
    "\n",
    "---\n",
    "\n",
    "#### 정렬된 행렬의 인덱스 반환하기\n",
    "\n",
    "원본 행렬이 정렬된 후, 기존(원본) 행렬의 원소에 대한 인덱스가 요구될 때\n",
    "\n",
    "인덱스 반환 방식은 다음과 같다.\n",
    "\n",
    "- ``np.argsort()`` : 정렬 행렬의 원본 행렬 인덱스를 ndarray 형으로 반환\n",
    "\n",
    "<br>\n",
    "\n",
    "**argsort( ) 가 중요한 이유**\n",
    "\n",
    "'넘파이의 ndarray'는 'RDBMS의 TABLE 칼럼' / '판다스의 DataFrame 칼럼'과\n",
    "\n",
    "동일한 메타데이터(속성정보)를 가질 수 없다.\n",
    "\n",
    "<font color=blue>=> 다른 데이터 구조 / 메타데이터 관리 방식 / 목적의 차이</font>\n",
    "\n",
    "<br>\n",
    "<br>\n",
    "\n",
    "**데이터 구조의 차이(넘파이 <-> 판다스)**\n",
    ">넘파이의 ndarray는 다차원 배열로, 주로 숫자 데이터를 다루는데 사용된다. ndarray는 행과 열에 대한 레이블 또는 인덱스를 가지지 않으며, 그 자체로 메타데이터를 저장하거나 관리하지 않는다.\n",
    "판다스의 DataFrame은 테이블 형태의 데이터 구조로, 행과 열에 레이블을 부여하여 데이터를 저장한다. DataFrame은 데이터 뿐만 아니라 행과 열의 레이블, 데이터 유형, 결측값 처리 등 다양한 메타데이터를 포함하는 데이터 구조이다.\n",
    "\n",
    "**목적의 차이(넘파이 <-> 판다스)**\n",
    ">넘파이의 주요 목적은 고성능 수치 연산을 위한 다차원 배열을 제공하는 것이며, 데이터 메타데이터 관리에 중점을 두지 않는다.\n",
    "판다스의 주요 목적은 데이터 조작과 분석을 위한 데이터 구조를 제공하는 것이다. DataFrame은 데이터를 효과적으로 탐색하고 분석하기 위한 다양한 기능을 제공하며, 이를 위해 메타데이터를 활용한다."
   ]
  },
  {
   "cell_type": "code",
   "execution_count": 27,
   "id": "4fc316e7",
   "metadata": {},
   "outputs": [
    {
     "name": "stdout",
     "output_type": "stream",
     "text": [
      "<class 'numpy.ndarray'>\n",
      "행렬 정렬 시 원본 행렬의 인덱스: [1 0 3 2]\n"
     ]
    }
   ],
   "source": [
    "org_array = np.array([3,1,9,5])\n",
    "sort_indices = np.argsort(org_array)\n",
    "print(type(sort_indices))\n",
    "print('행렬 정렬 시 원본 행렬의 인덱스:', sort_indices)"
   ]
  },
  {
   "cell_type": "markdown",
   "id": "3baa9449",
   "metadata": {},
   "source": [
    "- 기존 [3, 1, 9, 5] 행렬에서의 인덱스 값은 다음과 같다.\n",
    "\n",
    "3의 인덱스 값: 0\n",
    "\n",
    "1의 인덱스 값: 1\n",
    "\n",
    "9의 인덱스 값: 2\n",
    "\n",
    "5의 인덱스 값: 3\n",
    "\n",
    "- 기존 행렬을 오름차순으로 정렬하면, [1, 3, 5, 9]가 되는데 여기서 원본 행렬의 인덱스 값을 ndarray형식으로 뽑으면 [1 0 3 2]로 출력된다."
   ]
  },
  {
   "cell_type": "code",
   "execution_count": 28,
   "id": "11583a0d",
   "metadata": {},
   "outputs": [
    {
     "name": "stdout",
     "output_type": "stream",
     "text": [
      "행렬 내림차순 정렬 시 원본 행렬의 인덱스: [2 3 0 1]\n"
     ]
    }
   ],
   "source": [
    "org_array = np.array([3, 1, 9, 5])\n",
    "sort_indices_desc = np.argsort(org_array)[::-1]\n",
    "print('행렬 내림차순 정렬 시 원본 행렬의 인덱스:', sort_indices_desc)"
   ]
  },
  {
   "cell_type": "markdown",
   "id": "073b8286",
   "metadata": {},
   "source": [
    "- 기존 [3, 1, 9, 5] 행렬에서의 인덱스 값은 다음과 같다.\n",
    "\n",
    "3의 인덱스 값: 0\n",
    "\n",
    "1의 인덱스 값: 1\n",
    "\n",
    "9의 인덱스 값: 2\n",
    "\n",
    "5의 인덱스 값: 3\n",
    "\n",
    "- 기존 행렬을 내림차순으로 정렬하면, [9, 5, 3, 1]가 되는데 여기서 원본 행렬의 인덱스 값을 ndarray형식으로 뽑으면 [2 3 0 1]로 출력된다."
   ]
  },
  {
   "cell_type": "code",
   "execution_count": 29,
   "id": "3778a9ec",
   "metadata": {},
   "outputs": [
    {
     "name": "stdout",
     "output_type": "stream",
     "text": [
      "성적 오름차순 정렬 시 score_array의 인덱스: [0 2 4 1 3]\n",
      "성적 오름차순으로 name_array의 이름 출력: ['John' 'Sarah' 'Samuel' 'Mike' 'Kate']\n"
     ]
    }
   ],
   "source": [
    "# John = 78, Mike = 95, Sarah = 84, Kate = 98, Samuel = 88을 ndarray로 활용\n",
    "\n",
    "import numpy as np\n",
    "\n",
    "name_array = np.array(['John', 'Mike', 'Sarah', 'Kate', 'Samuel'])\n",
    "score_array = np.array([78, 95, 84, 98, 88])\n",
    "\n",
    "sort_indices_asc = np.argsort(score_array)\n",
    "print('성적 오름차순 정렬 시 score_array의 인덱스:', sort_indices_asc)\n",
    "print('성적 오름차순으로 name_array의 이름 출력:', name_array[sort_indices_asc])"
   ]
  },
  {
   "cell_type": "markdown",
   "id": "70e24af9",
   "metadata": {},
   "source": [
    "- name_array에 팬시 인덱싱을 적용해 주석처리한 부분처럼 인덱스를 적용하고, 이를 오름차순으로 적용한 것\n",
    "\n",
    "---\n",
    "\n",
    "### 선형대수 연산 - 행렬 내적과 전치 행렬 구하기\n",
    "\n",
    "머신러닝 및 데이터 분석에서 **선형대수**가 중요한 이유는 여러가지 측면이 있는데 대표적으로 다음과 같다.\n",
    "\n",
    "**데이터의 표현**\n",
    "\n",
    "> 데이터는 다차원 벡터 or 행렬의 형태로 표현될 때가 있는데, 선형대수는 **데이터의 구조와 표현을 이해**하는 데 도움을 준다. (예를 들어, 이미지 데이터 픽셀 값 - 행렬로 표현)\n",
    "\n",
    "\n",
    "**모델링**\n",
    "\n",
    "> 대부분의 머신러닝 모델은 선형대수적 개념이 도입되어 있다. 즉, **선형대수의 원리에 근거하여 데이터를 모델링하고 예측하는 것**이다. (예를 들어, 선형 회귀, 주성분 분석, 서포트 벡터 머신 등의 모델이 있음)\n",
    "\n",
    "\n",
    "**차원 축소**\n",
    "\n",
    "> 선형대수적 기법을 사용하여 **데이터의 차원을 축소**하거나 **중요한 특성을 추출**한다.\n",
    "\n",
    "**최적화**\n",
    "> 많은 머신러닝 알고리즘은 최적화 문제로 정의된다. **최적화 문제를 다루는데 필수적인 도구**로 사용된다.\n",
    "\n",
    "**이미지 처리**\n",
    "> CV(컴퓨터 비전)분야에서는 이미지나 비디오 데이터를 다룰 때 **행렬 연산과 컨볼루션 연산**이 중요하다.\n",
    "\n",
    "**모델 해석**\n",
    "> **모델의 해석 혹은 해석 가능성을 높이는 데 선형대수적 기법이 유용**하다.\n",
    "\n",
    "**노이즈와 불확실성 관리**\n",
    "> 데이터를 다루다 보면 종종 노이즈 혹은 불확실성이 포함될 때가 있는데, 선형대수는 이러한 **노이즈, 불확실성을 처리하고 관리하는 것에 도움**을 준다.\n",
    "\n",
    "---\n",
    "\n",
    "#### 행렬 내적(행렬 곱)\n",
    "\n",
    "![행렬내적](https://raw.githubusercontent.com/angeloyeo/angeloyeo.github.io/master/pics/2020-09-08-matrix_multiplication/pic2.png)\n",
    "\n",
    "행렬 A와 B가 주어졌을 때, 내적 결과 행렬 C는 다음과 같이 계산된다.\n",
    "\n",
    "A = m x k\n",
    "\n",
    "B = k x n\n",
    "\n",
    "C = A * B = (m x k) * (k x n) = (m x n)\n",
    "\n",
    "---\n",
    "\n",
    "위 예시 행렬처럼 넘파이에서도 ``np.dot()``을 사용하여 행렬 내적이 가능하다.\n",
    "\n",
    "우선적으로 내적 연산이 가능하려면, **왼쪽 행렬의 열과 오른쪽 행렬의 행 개수가 동일**해야 한다."
   ]
  },
  {
   "cell_type": "code",
   "execution_count": 30,
   "id": "cafaefe6",
   "metadata": {},
   "outputs": [
    {
     "name": "stdout",
     "output_type": "stream",
     "text": [
      "[[1 2 3]\n",
      " [4 5 6]]\n",
      "*\n",
      "[[ 7  8]\n",
      " [ 9 10]\n",
      " [11 12]]\n",
      "행렬 내적 결과:\n",
      " [[ 58  64]\n",
      " [139 154]]\n"
     ]
    }
   ],
   "source": [
    "A = np.array([[1, 2, 3],\n",
    "             [4, 5, 6]])\n",
    "\n",
    "B = np.array([[7, 8],\n",
    "             [9, 10],\n",
    "             [11, 12]])\n",
    "\n",
    "print(A)\n",
    "print('*')\n",
    "print(B)\n",
    "\n",
    "dot_product = np.dot(A, B)\n",
    "print('행렬 내적 결과:\\n', dot_product)"
   ]
  },
  {
   "cell_type": "markdown",
   "id": "f112a1d6",
   "metadata": {},
   "source": [
    "- 2x3 행렬 A와 3x2 행렬 B를 내적한 결과 2x2의 dot_product가 계산됨\n",
    "\n",
    "---\n",
    "\n",
    "### 전치 행렬\n",
    "\n",
    "**전치행렬**은 기존 **원 행렬에서 행과 열을 교환**하여 새롭게 구성한 행렬을 말한다.\n",
    "\n",
    "![전치행렬](https://codetorial.net/numpy/_images/numpy_transpose_01.png)\n",
    "\n",
    "\n",
    "<br>\n",
    "\n",
    "넘파이에서의 전치행렬은 ``transpose()``를 이용해 구할 수 있다."
   ]
  },
  {
   "cell_type": "code",
   "execution_count": 31,
   "id": "6809cdae",
   "metadata": {},
   "outputs": [
    {
     "name": "stdout",
     "output_type": "stream",
     "text": [
      "A의 전치 행렬:\n",
      " [[1 3]\n",
      " [2 4]]\n"
     ]
    }
   ],
   "source": [
    "A = np.array([[1, 2],\n",
    "             [3, 4]])\n",
    "\n",
    "transpose_mat = np.transpose(A)\n",
    "print('A의 전치 행렬:\\n', transpose_mat)"
   ]
  },
  {
   "cell_type": "markdown",
   "id": "520a99ed",
   "metadata": {},
   "source": [
    "- ``np.transpse(A)`` : A 행렬의 전치행렬을 만든다."
   ]
  },
  {
   "cell_type": "code",
   "execution_count": 32,
   "id": "78c8f574",
   "metadata": {},
   "outputs": [
    {
     "name": "stdout",
     "output_type": "stream",
     "text": [
      "A의 전치 행렬:\n",
      " [[1 3]\n",
      " [2 4]]\n"
     ]
    }
   ],
   "source": [
    "A = np.array([[1, 2],\n",
    "             [3, 4]])\n",
    "\n",
    "B = A.T\n",
    "print('A의 전치 행렬:\\n', B)"
   ]
  },
  {
   "cell_type": "markdown",
   "id": "ff400030",
   "metadata": {},
   "source": [
    "- 번외로 해당 행렬에 ``.T``를 붙여 간단하게 전치행렬을 표현할 수도 있다."
   ]
  },
  {
   "cell_type": "markdown",
   "id": "f42176e6",
   "metadata": {},
   "source": [
    "---\n",
    "\n",
    "#### 회고 사항\n",
    "\n",
    "> 추가 예정\n",
    "\n",
    "---"
   ]
  }
 ],
 "metadata": {
  "kernelspec": {
   "display_name": "Python 3 (ipykernel)",
   "language": "python",
   "name": "python3"
  },
  "language_info": {
   "codemirror_mode": {
    "name": "ipython",
    "version": 3
   },
   "file_extension": ".py",
   "mimetype": "text/x-python",
   "name": "python",
   "nbconvert_exporter": "python",
   "pygments_lexer": "ipython3",
   "version": "3.11.4"
  }
 },
 "nbformat": 4,
 "nbformat_minor": 5
}
